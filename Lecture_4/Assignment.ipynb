{
 "cells": [
  {
   "cell_type": "markdown",
   "id": "7cec765f",
   "metadata": {},
   "source": [
    "# Discrete Math 2: Lecture 4 Assignment\n",
    "### by Joshua P Collamat"
   ]
  },
  {
   "cell_type": "markdown",
   "id": "91c2acff",
   "metadata": {},
   "source": [
    "## GRAPH"
   ]
  },
  {
   "cell_type": "code",
   "execution_count": null,
   "id": "3e856a9d",
   "metadata": {},
   "outputs": [],
   "source": [
    "import matplotlib.pyplot as plt\n",
    "import networkx as nx\n",
    "seed = 55\n",
    "# Use seed for reproducibility\n",
    "G = nx.Graph()\n",
    "plt.figure(figsize=(10, 8))\n",
    "# Add nodes\n",
    "G.add_nodes_from([\"A\",\"B\",\"C\",\"D\",\"E\",\"F\",\"G\"])\n",
    "# Add self-loops to the remaining nodes\n",
    "edgelist = [(\"A\",\"C\"),(\"A\",\"I\"),(\"C\",\"B\"),(\"C\",\"E\"),(\"C\",\"D\"),(\"B\",\"E\"),(\"I\",\"E\"),(\"E\",\"F\"),(\"F\",\"G\"),(\"G\",\"E\")]\n",
    "G.add_edges_from(edgelist)\n",
    "pos = nx.planar_layout(G)  # Seed for reproducible layout\n",
    "nx.draw_networkx_edge_labels(\n",
    "    G, pos,\n",
    "    edge_labels={(\"A\",\"C\"):10,(\"A\",\"I\"):5,(\"C\",\"B\"):20,(\"C\",\"E\"):15,(\"C\",\"D\"):30,(\"B\",\"E\"):25,(\"I\",\"E\"):40,(\"E\",\"F\"):35,(\"F\",\"G\"):50,(\"G\",\"E\"):45},\n",
    "    font_color='blue'\n",
    ")\n",
    "nx.draw(G, pos=pos,with_labels=True)\n",
    "nx.draw(\n",
    "    G, pos, edge_color='black', width=1, linewidths=1,\n",
    "    node_size=500, node_color='red', alpha=0.9,\n",
    "    with_labels=True)\n",
    "plt.show()"
   ]
  },
  {
   "cell_type": "markdown",
   "id": "a3202fea",
   "metadata": {},
   "source": [
    "$\\textbf{I. KRUSKAL'S ALGORITHM IMPLEMENTATION}$"
   ]
  },
  {
   "cell_type": "code",
   "execution_count": null,
   "id": "83e603a1",
   "metadata": {},
   "outputs": [],
   "source": [
    "import networkx as nx\n",
    "import matplotlib.pyplot as plt\n",
    "\n",
    "# Define the graph and set edge weights\n",
    "G = nx.Graph()\n",
    "edge_weights = {(\"A\", \"C\"): 10, (\"A\", \"I\"): 5, (\"C\", \"B\"): 20, (\"C\", \"E\"): 15,\n",
    "                (\"C\", \"D\"): 30, (\"B\", \"E\"): 25, (\"I\", \"E\"): 40, (\"E\", \"F\"): 35,\n",
    "                (\"F\", \"G\"): 50, (\"G\", \"E\"): 45}\n",
    "\n",
    "# Add edges with weights to the graph\n",
    "for edge, weight in edge_weights.items():\n",
    "    u, v = edge\n",
    "    G.add_edge(u, v, weight=weight)\n",
    "\n",
    "# Define the layout for the graph\n",
    "pos = nx.planar_layout(G)\n",
    "\n",
    "# Use Kruskal's algorithm to find the minimum spanning tree\n",
    "mst = nx.minimum_spanning_tree(G, weight='weight', algorithm='kruskal')\n",
    "\n",
    "# Plot the original graph\n",
    "plt.figure(figsize=(10, 8))\n",
    "\n",
    "# Draw the original graph nodes and edges\n",
    "nx.draw(G, pos, with_labels=True, node_color='green', node_size=700)\n",
    "nx.draw_networkx_edge_labels(G, pos, edge_labels=edge_weights, font_color='red')\n",
    "\n",
    "# Highlight the edges of the MST in the graph\n",
    "mst_edges = list(mst.edges(data=True))\n",
    "mst_edges_list = [(edge[0], edge[1]) for edge in mst_edges]\n",
    "nx.draw_networkx_edges(G, pos, edgelist=mst_edges_list, edge_color='blue', width=2, alpha=0.8)\n",
    "\n",
    "# Show the plot\n",
    "plt.title(\"Kruskal's Algorithm Implementation\")\n",
    "plt.show()\n"
   ]
  },
  {
   "cell_type": "markdown",
   "id": "96625f5b",
   "metadata": {},
   "source": [
    "$\\textbf{II. PRIM'S ALGORITHM IMPLEMENTATION}$"
   ]
  },
  {
   "cell_type": "code",
   "execution_count": null,
   "id": "75fb63b1",
   "metadata": {},
   "outputs": [],
   "source": [
    "import networkx as nx\n",
    "import matplotlib.pyplot as plt\n",
    "\n",
    "# Define the graph and set edge weights\n",
    "G = nx.Graph()\n",
    "edge_weights = {(\"A\", \"C\"): 10, (\"A\", \"I\"): 5, (\"C\", \"B\"): 20, (\"C\", \"E\"): 15,\n",
    "                (\"C\", \"D\"): 30, (\"B\", \"E\"): 25, (\"I\", \"E\"): 40, (\"E\", \"F\"): 35,\n",
    "                (\"F\", \"G\"): 50, (\"G\", \"E\"): 45}\n",
    "\n",
    "# Add edges with weights to the graph\n",
    "for edge, weight in edge_weights.items():\n",
    "    u, v = edge\n",
    "    G.add_edge(u, v, weight=weight)\n",
    "\n",
    "# Define the layout for the graph\n",
    "pos = nx.planar_layout(G)\n",
    "\n",
    "# Use Prim's algorithm to find the minimum spanning tree\n",
    "mst = nx.minimum_spanning_tree(G, weight='weight', algorithm='prim')\n",
    "\n",
    "# Plot the original graph\n",
    "plt.figure(figsize=(10, 8))\n",
    "\n",
    "# Draw the original graph nodes and edges\n",
    "nx.draw(G, pos, with_labels=True, node_color='green', node_size=700)\n",
    "nx.draw_networkx_edge_labels(G, pos, edge_labels=edge_weights, font_color='red')\n",
    "\n",
    "# Highlight the edges of the MST in the graph\n",
    "mst_edges = list(mst.edges(data=True))\n",
    "mst_edges_list = [(edge[0], edge[1]) for edge in mst_edges]\n",
    "nx.draw_networkx_edges(G, pos, edgelist=mst_edges_list, edge_color='blue', width=2, alpha=0.8)\n",
    "\n",
    "# Show the plot\n",
    "plt.title(\"Prim's Algorithm Implementation\")\n",
    "plt.show()\n"
   ]
  },
  {
   "cell_type": "markdown",
   "id": "fca1d26e",
   "metadata": {},
   "source": [
    "$\\textbf{III.DIJKSTRA'S ALGORITHM IMPLEMENTATION}$"
   ]
  },
  {
   "cell_type": "code",
   "execution_count": null,
   "id": "6e186a98",
   "metadata": {},
   "outputs": [],
   "source": [
    "import networkx as nx\n",
    "import matplotlib.pyplot as plt\n",
    "\n",
    "# Define the graph and set edge weights\n",
    "G = nx.Graph()\n",
    "edge_weights = {(\"A\", \"C\"): 10, (\"A\", \"I\"): 5, (\"C\", \"B\"): 20, (\"C\", \"E\"): 15,\n",
    "                (\"C\", \"D\"): 30, (\"B\", \"E\"): 25, (\"I\", \"E\"): 40, (\"E\", \"F\"): 35,\n",
    "                (\"F\", \"G\"): 50, (\"G\", \"E\"): 45}\n",
    "\n",
    "# Add edges with weights to the graph\n",
    "for edge, weight in edge_weights.items():\n",
    "    u, v = edge\n",
    "    G.add_edge(u, v, weight=weight)\n",
    "\n",
    "# Define the layout for the graph\n",
    "pos = nx.planar_layout(G)\n",
    "\n",
    "# Calculate the shortest path from a source node to a target node\n",
    "source_node = \"A\"\n",
    "target_node = \"G\"\n",
    "shortest_path = nx.shortest_path(G, source=source_node, target=target_node, weight='weight')\n",
    "\n",
    "# Calculate the length of the shortest path\n",
    "shortest_path_length = nx.shortest_path_length(G, source=source_node, target=target_node, weight='weight')\n",
    "\n",
    "# Plot the graph\n",
    "plt.figure(figsize=(8, 6))\n",
    "\n",
    "# Draw the graph nodes and edges\n",
    "nx.draw(G, pos, with_labels=True, node_color='Green', node_size=700)\n",
    "\n",
    "# Draw the edge labels (weights)\n",
    "nx.draw_networkx_edge_labels(G, pos, edge_labels=edge_weights, font_color='blue')\n",
    "\n",
    "# Highlight the shortest path from source_node to target_node\n",
    "path_edges = list(zip(shortest_path, shortest_path[1:]))\n",
    "nx.draw_networkx_edges(G, pos, edgelist=path_edges, edge_color='red', width=2)\n",
    "\n",
    "# Show the plot\n",
    "plt.title(f\"Dijktra's Implementation: from {source_node} to {target_node}\\nPath: {shortest_path}, Length: {shortest_path_length}\")\n",
    "plt.show()"
   ]
  }
 ],
 "metadata": {
  "kernelspec": {
   "display_name": "Python 3 (ipykernel)",
   "language": "python",
   "name": "python3"
  },
  "language_info": {
   "codemirror_mode": {
    "name": "ipython",
    "version": 3
   },
   "file_extension": ".py",
   "mimetype": "text/x-python",
   "name": "python",
   "nbconvert_exporter": "python",
   "pygments_lexer": "ipython3",
   "version": "3.11.4"
  }
 },
 "nbformat": 4,
 "nbformat_minor": 5
}
